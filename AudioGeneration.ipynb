{
 "cells": [
  {
   "cell_type": "markdown",
   "metadata": {},
   "source": [
    "# This is a description of the method used to generate midi type files, containing pitches of various types"
   ]
  },
  {
   "cell_type": "code",
   "execution_count": 2,
   "metadata": {},
   "outputs": [
    {
     "name": "stdout",
     "output_type": "stream",
     "text": [
      "Collecting midiutil\n",
      "  Downloading https://files.pythonhosted.org/packages/f5/44/fde6772d8bfaea64fcf5eb948124d0a5fdf5f848b14ac22a23ced53e562d/MIDIUtil-1.2.1.tar.gz (1.0MB)\n",
      "Building wheels for collected packages: midiutil\n",
      "  Building wheel for midiutil (setup.py): started\n",
      "  Building wheel for midiutil (setup.py): finished with status 'done'\n",
      "  Stored in directory: C:\\Users\\doha1\\AppData\\Local\\pip\\Cache\\wheels\\70\\f1\\24\\97bde012f64820632e1e5e2935df19dfbcf9e058b0734b57cd\n",
      "Successfully built midiutil\n",
      "Installing collected packages: midiutil\n",
      "Successfully installed midiutil-1.2.1\n",
      "Note: you may need to restart the kernel to use updated packages.\n"
     ]
    }
   ],
   "source": [
    "pip install midiutil"
   ]
  },
  {
   "cell_type": "code",
   "execution_count": 3,
   "metadata": {},
   "outputs": [],
   "source": [
    "from midiutil import MIDIFile\n",
    "import random, numpy as np"
   ]
  },
  {
   "cell_type": "markdown",
   "metadata": {},
   "source": [
    "#### in order to generate a truth table"
   ]
  },
  {
   "cell_type": "code",
   "execution_count": 4,
   "metadata": {},
   "outputs": [],
   "source": [
    "def DiceThrow(diceAmount):\n",
    "    dice=[]\n",
    "    \n",
    "    #create a column depending on the formula 2^n/2^m \n",
    "    m=1\n",
    "    for i in range(diceAmount):\n",
    "        \n",
    "        div=2**m\n",
    "        changeBit=2**diceAmount/div\n",
    "        count=0\n",
    "        col_0=[]\n",
    "        col_1=[]\n",
    "        full_col=[]\n",
    "        #bit change for each column\n",
    "        while(count<changeBit):\n",
    "            col_0.append(0)\n",
    "            col_1.append(1)\n",
    "            count+=1\n",
    "            \n",
    "        #create the column\n",
    "        while(len(full_col)<2**diceAmount): \n",
    "            full_col.extend(col_0)\n",
    "            full_col.extend(col_1)\n",
    "        \n",
    "        dice.append(full_col)\n",
    "        m+=1\n",
    "       \n",
    " \n",
    "    return dice\n",
    "\n"
   ]
  }
 ],
 "metadata": {
  "kernelspec": {
   "display_name": "Python 3",
   "language": "python",
   "name": "python3"
  },
  "language_info": {
   "codemirror_mode": {
    "name": "ipython",
    "version": 3
   },
   "file_extension": ".py",
   "mimetype": "text/x-python",
   "name": "python",
   "nbconvert_exporter": "python",
   "pygments_lexer": "ipython3",
   "version": "3.7.3"
  }
 },
 "nbformat": 4,
 "nbformat_minor": 2
}
