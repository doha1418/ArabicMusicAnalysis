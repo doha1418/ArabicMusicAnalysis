{
 "cells": [
  {
   "cell_type": "markdown",
   "metadata": {},
   "source": [
    "# This is a description of the method used to generate midi type files, containing pitches of various types"
   ]
  },
  {
   "cell_type": "code",
   "execution_count": 2,
   "metadata": {},
   "outputs": [
    {
     "name": "stdout",
     "output_type": "stream",
     "text": [
      "Collecting midiutil\n",
      "  Downloading https://files.pythonhosted.org/packages/f5/44/fde6772d8bfaea64fcf5eb948124d0a5fdf5f848b14ac22a23ced53e562d/MIDIUtil-1.2.1.tar.gz (1.0MB)\n",
      "Building wheels for collected packages: midiutil\n",
      "  Building wheel for midiutil (setup.py): started\n",
      "  Building wheel for midiutil (setup.py): finished with status 'done'\n",
      "  Stored in directory: C:\\Users\\doha1\\AppData\\Local\\pip\\Cache\\wheels\\70\\f1\\24\\97bde012f64820632e1e5e2935df19dfbcf9e058b0734b57cd\n",
      "Successfully built midiutil\n",
      "Installing collected packages: midiutil\n",
      "Successfully installed midiutil-1.2.1\n",
      "Note: you may need to restart the kernel to use updated packages.\n"
     ]
    }
   ],
   "source": [
    "pip install midiutil"
   ]
  },
  {
   "cell_type": "code",
   "execution_count": 3,
   "metadata": {},
   "outputs": [],
   "source": [
    "from midiutil import MIDIFile\n",
    "import random, numpy as np"
   ]
  },
  {
   "cell_type": "markdown",
   "metadata": {},
   "source": [
    "## This is a discription of generating pitches using Voss' algorithm with a Voss constraint tree\n",
    "###### This function generates a truth table which is step 1 of Voss' Algorithm"
   ]
  },
  {
   "cell_type": "code",
   "execution_count": 4,
   "metadata": {},
   "outputs": [],
   "source": [
    "def DiceThrow(diceAmount):\n",
    "    dice=[]\n",
    "    \n",
    "    #create a column depending on the formula 2^n/2^m \n",
    "    m=1\n",
    "    for i in range(diceAmount):\n",
    "        \n",
    "        div=2**m\n",
    "        changeBit=2**diceAmount/div\n",
    "        count=0\n",
    "        col_0=[]\n",
    "        col_1=[]\n",
    "        full_col=[]\n",
    "        #bit change for each column\n",
    "        while(count<changeBit):\n",
    "            col_0.append(0)\n",
    "            col_1.append(1)\n",
    "            count+=1\n",
    "            \n",
    "        #create the column\n",
    "        while(len(full_col)<2**diceAmount): \n",
    "            full_col.extend(col_0)\n",
    "            full_col.extend(col_1)\n",
    "        \n",
    "        dice.append(full_col)\n",
    "        m+=1\n",
    "       \n",
    " \n",
    "    return dice"
   ]
  },
  {
   "cell_type": "code",
   "execution_count": 7,
   "metadata": {},
   "outputs": [
    {
     "name": "stdout",
     "output_type": "stream",
     "text": [
      "[[0, 0, 0, 0, 1, 1, 1, 1], [0, 0, 1, 1, 0, 0, 1, 1], [0, 1, 0, 1, 0, 1, 0, 1]]\n"
     ]
    }
   ],
   "source": [
    "#pass the number of columns corresponding to the number of dice involved in \n",
    "#the experiment\n",
    "dice=DiceThrow(3) \n",
    "print(dice)"
   ]
  },
  {
   "cell_type": "markdown",
   "metadata": {},
   "source": [
    "#### The next step is determining when to throw the dice\n",
    "##### Each dice is represented by a column, when there is a bit change compared  to the previous column, choose a random number between 0 and drage simulating a dice throw the function returns a Voss tree"
   ]
  },
  {
   "cell_type": "code",
   "execution_count": 8,
   "metadata": {},
   "outputs": [],
   "source": [
    "def CreatePitchViolin(dice):\n",
    "    \n",
    "    voss_constraint_tree=[]\n",
    "    drange=int(128/len(dice))#determine the number of dice sides\n",
    "    \n",
    "    #now create the pitch (the notes), by walking in col-row order\n",
    "    for i in range(len(dice[0])):#col\n",
    "        for j in range(len(dice)): #row\n",
    "            \n",
    "            if(i==0): #if it is the very first col toss all dice\n",
    "               tempPitch=random.randint(0,drange)\n",
    "               #save each pitch to represent the top of the tree\n",
    "               voss_constraint_tree.append([tempPitch])\n",
    "            else:\n",
    "                if(dice[j][i]!=dice[j][i-1]):\n",
    "                    tempPitch=random.randint(0,drange)\n",
    "                    voss_constraint_tree[j].append(tempPitch)\n",
    "    return voss_constraint_tree"
   ]
  },
  {
   "cell_type": "code",
   "execution_count": 10,
   "metadata": {},
   "outputs": [
    {
     "name": "stdout",
     "output_type": "stream",
     "text": [
      "[[42, 21], [33, 35, 25, 33], [19, 39, 15, 24, 18, 20, 12, 1]]\n"
     ]
    }
   ],
   "source": [
    "tree=CreatePitchViolin(dice)\n",
    "print(tree)"
   ]
  },
  {
   "cell_type": "markdown",
   "metadata": {},
   "source": [
    "### Sum of the tree"
   ]
  },
  {
   "cell_type": "code",
   "execution_count": 11,
   "metadata": {},
   "outputs": [],
   "source": [
    "#sum of tree returns an array with length equal to the bottom of the tree\n",
    "def VossTreeSum(tree):\n",
    "    \n",
    "    temp=[]\n",
    "    left_tree=[]\n",
    "    right_tree=[]\n",
    "    \n",
    "    \n",
    "    #optained the left subtree but upside down\n",
    "    for i in range(len(tree)-1,0,-1): #row traversal\n",
    "        \n",
    "        #col traversal to find the left tree\n",
    "        for j in range(int(len(tree[i])/2)): \n",
    "            temp.append(tree[i][j])\n",
    "        left_tree.append(temp)\n",
    "        temp=[]\n",
    "        \n",
    "        #col traversal to find right tree\n",
    "        for j in range(int(len(tree[i])/2),len(tree[i])):\n",
    "            temp.append(tree[i][j])\n",
    "        right_tree.append(temp)\n",
    "        temp=[]\n",
    "            \n",
    "    left_tree.append([tree[0][0]])\n",
    "    right_tree.append([tree[0][1]])\n",
    "      \n",
    "    \n",
    "    left=[]\n",
    "    right=[]\n",
    "    left_sum=0\n",
    "    right_sum=0\n",
    "    t=0\n",
    "    i=0\n",
    "    j=0\n",
    "    \n",
    "    #left tree dimentions=right tree dimentions\n",
    "    while(t<len(left_tree[0])): #repeat computations until all leafs are visited\n",
    "        \n",
    "        while(i<len(left_tree) and j<len(left_tree[i])):\n",
    "            \n",
    "            \n",
    "            left_sum+=left_tree[i][j]\n",
    "            right_sum+=right_tree[i][j]\n",
    "            \n",
    "            i+=1\n",
    "            j/=2\n",
    "            j=int(j)\n",
    "        \n",
    "        left.append(left_sum)\n",
    "        right.append(right_sum)\n",
    "        \n",
    "        left_sum=0\n",
    "        right_sum=0\n",
    "            \n",
    "        t+=1\n",
    "        j=t\n",
    "        i=0\n",
    "    return left+right"
   ]
  },
  {
   "cell_type": "code",
   "execution_count": 12,
   "metadata": {},
   "outputs": [
    {
     "name": "stdout",
     "output_type": "stream",
     "text": [
      "[94, 114, 92, 101, 64, 66, 66, 55]\n"
     ]
    }
   ],
   "source": [
    "pitches=VossTreeSum(tree)\n",
    "print(pitches)"
   ]
  },
  {
   "cell_type": "markdown",
   "metadata": {},
   "source": [
    "### The last step is creating a midi file by passing the generated pitch values. It saves a .mid type file to the disk"
   ]
  },
  {
   "cell_type": "code",
   "execution_count": 13,
   "metadata": {},
   "outputs": [],
   "source": [
    "def MIDIGenerator(pitches,file_name):\n",
    "    #create a midi file object to add the pitches to\n",
    "\n",
    "     mf=MIDIFile(1,False)\n",
    "     track=0\n",
    "     time=0\n",
    "     channel=0\n",
    "     \n",
    "\n",
    "     mf.addTrackName(track, time, \"Voss Track\") #\n",
    "     \n",
    "    #start the track with a violin on channel 1\n",
    "     mf.addProgramChange(track,0,0,40) \n",
    "    #standard tempo rate 150 BPM Considered fast\n",
    "     mf.addTempo(track,time,140) \n",
    "     \n",
    "    \n",
    "     scale_tempo=[1,1.5,1,1,1.5,1.5]\n",
    "     note_duration=[1,0.5,0.5,1,0.5,1]\n",
    "     t=[]\n",
    "     duration=[]\n",
    "     \n",
    "     counter=0\n",
    "     \n",
    "     for i in range(int(len(pitches)/4)):\n",
    "         for j in range(len(scale_tempo)):\n",
    "             t.append(counter)\n",
    "             counter+=scale_tempo[j]\n",
    "             duration.append(note_duration[j])\n",
    "            \n",
    "    #a loop that adds a note using mf.addNote(track, channel, pitch, time, duration, volume)\n",
    "     for i in range(1,len(pitches)):  \n",
    "         mf.addTempo(track,time,140)\n",
    "         mf.addNote(track,channel,pitches[i],t[i],duration[i],100)\n",
    "        \n",
    "     \n",
    "     #write it to disk\n",
    "     with open(file_name+\".mid\", 'wb') as outf:\n",
    "         mf.writeFile(outf)"
   ]
  },
  {
   "cell_type": "code",
   "execution_count": null,
   "metadata": {},
   "outputs": [],
   "source": [
    "MIDIGenerator(tree_sum1,'voss_7dice_noteTempo_try2')"
   ]
  }
 ],
 "metadata": {
  "kernelspec": {
   "display_name": "Python 3",
   "language": "python",
   "name": "python3"
  },
  "language_info": {
   "codemirror_mode": {
    "name": "ipython",
    "version": 3
   },
   "file_extension": ".py",
   "mimetype": "text/x-python",
   "name": "python",
   "nbconvert_exporter": "python",
   "pygments_lexer": "ipython3",
   "version": "3.7.3"
  }
 },
 "nbformat": 4,
 "nbformat_minor": 2
}
